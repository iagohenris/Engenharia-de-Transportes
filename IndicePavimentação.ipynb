{
  "cells": [
    {
      "cell_type": "markdown",
      "metadata": {
        "id": "view-in-github",
        "colab_type": "text"
      },
      "source": [
        "<a href=\"https://colab.research.google.com/github/iagohenris/Engenharia-de-Transportes/blob/Pavimentacao/IndicePavimenta%C3%A7%C3%A3o.ipynb\" target=\"_parent\"><img src=\"https://colab.research.google.com/assets/colab-badge.svg\" alt=\"Open In Colab\"/></a>"
      ]
    },
    {
      "cell_type": "code",
      "execution_count": 93,
      "metadata": {
        "id": "pVNN6kTo4-DN"
      },
      "outputs": [],
      "source": [
        "import pandas as pd\n",
        "import matplotlib.pyplot as plt\n",
        "from google.colab import drive\n",
        "from google.colab import files\n",
        "import seaborn as sns\n",
        "import numpy as np\n"
      ]
    },
    {
      "cell_type": "code",
      "execution_count": 5,
      "metadata": {
        "id": "0lwUFKjR5KHV",
        "colab": {
          "base_uri": "https://localhost:8080/"
        },
        "outputId": "0dc7044b-33fb-4c62-a175-eb179b61c476"
      },
      "outputs": [
        {
          "output_type": "stream",
          "name": "stdout",
          "text": [
            "Mounted at /content/drive/\n"
          ]
        }
      ],
      "source": [
        "drive.mount(\"/content/drive/\")"
      ]
    },
    {
      "cell_type": "code",
      "execution_count": 6,
      "metadata": {
        "id": "i2k3JjLg56WO"
      },
      "outputs": [],
      "source": [
        "dados = pd.read_csv(\"/content/drive/MyDrive/Dados Geográficos/icm-10_2022.csv\", sep=\";\")"
      ]
    },
    {
      "cell_type": "code",
      "execution_count": 7,
      "metadata": {
        "id": "8eZupyKY7BTX",
        "colab": {
          "base_uri": "https://localhost:8080/",
          "height": 424
        },
        "outputId": "5fa15beb-63bd-4114-e8da-c2dc01bee2ab"
      },
      "outputs": [
        {
          "output_type": "execute_result",
          "data": {
            "text/plain": [
              "      Unnamed: 0 Unnamed: 1  Unnamed: 2 Unnamed: 3     Unnamed: 4  Unnamed: 5  \\\n",
              "0            NaN        NaN         NaN        NaN            NaN         NaN   \n",
              "1            NaN        NaN         NaN        NaN            NaN         NaN   \n",
              "2            NaN        NaN         NaN        NaN            NaN         NaN   \n",
              "3             UF    Rodovia  km inicial   km final  Extensão (km)        Data   \n",
              "4            NaN        NaN         NaN        NaN            NaN         NaN   \n",
              "...          ...        ...         ...        ...            ...         ...   \n",
              "39787         SC     BR-282       1,000      2,000          1,000  03/11/2022   \n",
              "39788         SC     BR-282       2,000      3,000          1,000  03/11/2022   \n",
              "39789         SC     BR-282       3,000      4,000          1,000  03/11/2022   \n",
              "39790         SC     BR-282       4,000      5,000          1,000  03/11/2022   \n",
              "39791         SC     BR-282       5,000      5,400          0,400  03/11/2022   \n",
              "\n",
              "        Unnamed: 6   Unnamed: 7 Unnamed: 8 Unnamed: 9 Unnamed: 10  \n",
              "0              NaN          NaN        NaN        NaN         NaN  \n",
              "1              NaN          NaN        NaN        NaN         NaN  \n",
              "2              NaN          NaN        NaN        NaN         NaN  \n",
              "3         Latitude    Longitude        ICC        ICP         ICM  \n",
              "4              NaN          NaN        NaN        NaN         NaN  \n",
              "...            ...          ...        ...        ...         ...  \n",
              "39787  -27,6031516  -48,5891216     37,500      0,000      11,250  \n",
              "39788  -27,5992164   -48,598231     25,000      0,000       7,500  \n",
              "39789  -27,5995502  -48,5977012     25,000      0,000       7,500  \n",
              "39790   -27,592766  -48,6027325     25,000      0,000       7,500  \n",
              "39791  -27,5858132  -48,6145548     25,000      0,000       7,500  \n",
              "\n",
              "[39792 rows x 11 columns]"
            ],
            "text/html": [
              "\n",
              "  <div id=\"df-9400fea7-8b2f-4609-bae3-4619358776ff\">\n",
              "    <div class=\"colab-df-container\">\n",
              "      <div>\n",
              "<style scoped>\n",
              "    .dataframe tbody tr th:only-of-type {\n",
              "        vertical-align: middle;\n",
              "    }\n",
              "\n",
              "    .dataframe tbody tr th {\n",
              "        vertical-align: top;\n",
              "    }\n",
              "\n",
              "    .dataframe thead th {\n",
              "        text-align: right;\n",
              "    }\n",
              "</style>\n",
              "<table border=\"1\" class=\"dataframe\">\n",
              "  <thead>\n",
              "    <tr style=\"text-align: right;\">\n",
              "      <th></th>\n",
              "      <th>Unnamed: 0</th>\n",
              "      <th>Unnamed: 1</th>\n",
              "      <th>Unnamed: 2</th>\n",
              "      <th>Unnamed: 3</th>\n",
              "      <th>Unnamed: 4</th>\n",
              "      <th>Unnamed: 5</th>\n",
              "      <th>Unnamed: 6</th>\n",
              "      <th>Unnamed: 7</th>\n",
              "      <th>Unnamed: 8</th>\n",
              "      <th>Unnamed: 9</th>\n",
              "      <th>Unnamed: 10</th>\n",
              "    </tr>\n",
              "  </thead>\n",
              "  <tbody>\n",
              "    <tr>\n",
              "      <th>0</th>\n",
              "      <td>NaN</td>\n",
              "      <td>NaN</td>\n",
              "      <td>NaN</td>\n",
              "      <td>NaN</td>\n",
              "      <td>NaN</td>\n",
              "      <td>NaN</td>\n",
              "      <td>NaN</td>\n",
              "      <td>NaN</td>\n",
              "      <td>NaN</td>\n",
              "      <td>NaN</td>\n",
              "      <td>NaN</td>\n",
              "    </tr>\n",
              "    <tr>\n",
              "      <th>1</th>\n",
              "      <td>NaN</td>\n",
              "      <td>NaN</td>\n",
              "      <td>NaN</td>\n",
              "      <td>NaN</td>\n",
              "      <td>NaN</td>\n",
              "      <td>NaN</td>\n",
              "      <td>NaN</td>\n",
              "      <td>NaN</td>\n",
              "      <td>NaN</td>\n",
              "      <td>NaN</td>\n",
              "      <td>NaN</td>\n",
              "    </tr>\n",
              "    <tr>\n",
              "      <th>2</th>\n",
              "      <td>NaN</td>\n",
              "      <td>NaN</td>\n",
              "      <td>NaN</td>\n",
              "      <td>NaN</td>\n",
              "      <td>NaN</td>\n",
              "      <td>NaN</td>\n",
              "      <td>NaN</td>\n",
              "      <td>NaN</td>\n",
              "      <td>NaN</td>\n",
              "      <td>NaN</td>\n",
              "      <td>NaN</td>\n",
              "    </tr>\n",
              "    <tr>\n",
              "      <th>3</th>\n",
              "      <td>UF</td>\n",
              "      <td>Rodovia</td>\n",
              "      <td>km inicial</td>\n",
              "      <td>km final</td>\n",
              "      <td>Extensão (km)</td>\n",
              "      <td>Data</td>\n",
              "      <td>Latitude</td>\n",
              "      <td>Longitude</td>\n",
              "      <td>ICC</td>\n",
              "      <td>ICP</td>\n",
              "      <td>ICM</td>\n",
              "    </tr>\n",
              "    <tr>\n",
              "      <th>4</th>\n",
              "      <td>NaN</td>\n",
              "      <td>NaN</td>\n",
              "      <td>NaN</td>\n",
              "      <td>NaN</td>\n",
              "      <td>NaN</td>\n",
              "      <td>NaN</td>\n",
              "      <td>NaN</td>\n",
              "      <td>NaN</td>\n",
              "      <td>NaN</td>\n",
              "      <td>NaN</td>\n",
              "      <td>NaN</td>\n",
              "    </tr>\n",
              "    <tr>\n",
              "      <th>...</th>\n",
              "      <td>...</td>\n",
              "      <td>...</td>\n",
              "      <td>...</td>\n",
              "      <td>...</td>\n",
              "      <td>...</td>\n",
              "      <td>...</td>\n",
              "      <td>...</td>\n",
              "      <td>...</td>\n",
              "      <td>...</td>\n",
              "      <td>...</td>\n",
              "      <td>...</td>\n",
              "    </tr>\n",
              "    <tr>\n",
              "      <th>39787</th>\n",
              "      <td>SC</td>\n",
              "      <td>BR-282</td>\n",
              "      <td>1,000</td>\n",
              "      <td>2,000</td>\n",
              "      <td>1,000</td>\n",
              "      <td>03/11/2022</td>\n",
              "      <td>-27,6031516</td>\n",
              "      <td>-48,5891216</td>\n",
              "      <td>37,500</td>\n",
              "      <td>0,000</td>\n",
              "      <td>11,250</td>\n",
              "    </tr>\n",
              "    <tr>\n",
              "      <th>39788</th>\n",
              "      <td>SC</td>\n",
              "      <td>BR-282</td>\n",
              "      <td>2,000</td>\n",
              "      <td>3,000</td>\n",
              "      <td>1,000</td>\n",
              "      <td>03/11/2022</td>\n",
              "      <td>-27,5992164</td>\n",
              "      <td>-48,598231</td>\n",
              "      <td>25,000</td>\n",
              "      <td>0,000</td>\n",
              "      <td>7,500</td>\n",
              "    </tr>\n",
              "    <tr>\n",
              "      <th>39789</th>\n",
              "      <td>SC</td>\n",
              "      <td>BR-282</td>\n",
              "      <td>3,000</td>\n",
              "      <td>4,000</td>\n",
              "      <td>1,000</td>\n",
              "      <td>03/11/2022</td>\n",
              "      <td>-27,5995502</td>\n",
              "      <td>-48,5977012</td>\n",
              "      <td>25,000</td>\n",
              "      <td>0,000</td>\n",
              "      <td>7,500</td>\n",
              "    </tr>\n",
              "    <tr>\n",
              "      <th>39790</th>\n",
              "      <td>SC</td>\n",
              "      <td>BR-282</td>\n",
              "      <td>4,000</td>\n",
              "      <td>5,000</td>\n",
              "      <td>1,000</td>\n",
              "      <td>03/11/2022</td>\n",
              "      <td>-27,592766</td>\n",
              "      <td>-48,6027325</td>\n",
              "      <td>25,000</td>\n",
              "      <td>0,000</td>\n",
              "      <td>7,500</td>\n",
              "    </tr>\n",
              "    <tr>\n",
              "      <th>39791</th>\n",
              "      <td>SC</td>\n",
              "      <td>BR-282</td>\n",
              "      <td>5,000</td>\n",
              "      <td>5,400</td>\n",
              "      <td>0,400</td>\n",
              "      <td>03/11/2022</td>\n",
              "      <td>-27,5858132</td>\n",
              "      <td>-48,6145548</td>\n",
              "      <td>25,000</td>\n",
              "      <td>0,000</td>\n",
              "      <td>7,500</td>\n",
              "    </tr>\n",
              "  </tbody>\n",
              "</table>\n",
              "<p>39792 rows × 11 columns</p>\n",
              "</div>\n",
              "      <button class=\"colab-df-convert\" onclick=\"convertToInteractive('df-9400fea7-8b2f-4609-bae3-4619358776ff')\"\n",
              "              title=\"Convert this dataframe to an interactive table.\"\n",
              "              style=\"display:none;\">\n",
              "        \n",
              "  <svg xmlns=\"http://www.w3.org/2000/svg\" height=\"24px\"viewBox=\"0 0 24 24\"\n",
              "       width=\"24px\">\n",
              "    <path d=\"M0 0h24v24H0V0z\" fill=\"none\"/>\n",
              "    <path d=\"M18.56 5.44l.94 2.06.94-2.06 2.06-.94-2.06-.94-.94-2.06-.94 2.06-2.06.94zm-11 1L8.5 8.5l.94-2.06 2.06-.94-2.06-.94L8.5 2.5l-.94 2.06-2.06.94zm10 10l.94 2.06.94-2.06 2.06-.94-2.06-.94-.94-2.06-.94 2.06-2.06.94z\"/><path d=\"M17.41 7.96l-1.37-1.37c-.4-.4-.92-.59-1.43-.59-.52 0-1.04.2-1.43.59L10.3 9.45l-7.72 7.72c-.78.78-.78 2.05 0 2.83L4 21.41c.39.39.9.59 1.41.59.51 0 1.02-.2 1.41-.59l7.78-7.78 2.81-2.81c.8-.78.8-2.07 0-2.86zM5.41 20L4 18.59l7.72-7.72 1.47 1.35L5.41 20z\"/>\n",
              "  </svg>\n",
              "      </button>\n",
              "      \n",
              "  <style>\n",
              "    .colab-df-container {\n",
              "      display:flex;\n",
              "      flex-wrap:wrap;\n",
              "      gap: 12px;\n",
              "    }\n",
              "\n",
              "    .colab-df-convert {\n",
              "      background-color: #E8F0FE;\n",
              "      border: none;\n",
              "      border-radius: 50%;\n",
              "      cursor: pointer;\n",
              "      display: none;\n",
              "      fill: #1967D2;\n",
              "      height: 32px;\n",
              "      padding: 0 0 0 0;\n",
              "      width: 32px;\n",
              "    }\n",
              "\n",
              "    .colab-df-convert:hover {\n",
              "      background-color: #E2EBFA;\n",
              "      box-shadow: 0px 1px 2px rgba(60, 64, 67, 0.3), 0px 1px 3px 1px rgba(60, 64, 67, 0.15);\n",
              "      fill: #174EA6;\n",
              "    }\n",
              "\n",
              "    [theme=dark] .colab-df-convert {\n",
              "      background-color: #3B4455;\n",
              "      fill: #D2E3FC;\n",
              "    }\n",
              "\n",
              "    [theme=dark] .colab-df-convert:hover {\n",
              "      background-color: #434B5C;\n",
              "      box-shadow: 0px 1px 3px 1px rgba(0, 0, 0, 0.15);\n",
              "      filter: drop-shadow(0px 1px 2px rgba(0, 0, 0, 0.3));\n",
              "      fill: #FFFFFF;\n",
              "    }\n",
              "  </style>\n",
              "\n",
              "      <script>\n",
              "        const buttonEl =\n",
              "          document.querySelector('#df-9400fea7-8b2f-4609-bae3-4619358776ff button.colab-df-convert');\n",
              "        buttonEl.style.display =\n",
              "          google.colab.kernel.accessAllowed ? 'block' : 'none';\n",
              "\n",
              "        async function convertToInteractive(key) {\n",
              "          const element = document.querySelector('#df-9400fea7-8b2f-4609-bae3-4619358776ff');\n",
              "          const dataTable =\n",
              "            await google.colab.kernel.invokeFunction('convertToInteractive',\n",
              "                                                     [key], {});\n",
              "          if (!dataTable) return;\n",
              "\n",
              "          const docLinkHtml = 'Like what you see? Visit the ' +\n",
              "            '<a target=\"_blank\" href=https://colab.research.google.com/notebooks/data_table.ipynb>data table notebook</a>'\n",
              "            + ' to learn more about interactive tables.';\n",
              "          element.innerHTML = '';\n",
              "          dataTable['output_type'] = 'display_data';\n",
              "          await google.colab.output.renderOutput(dataTable, element);\n",
              "          const docLink = document.createElement('div');\n",
              "          docLink.innerHTML = docLinkHtml;\n",
              "          element.appendChild(docLink);\n",
              "        }\n",
              "      </script>\n",
              "    </div>\n",
              "  </div>\n",
              "  "
            ]
          },
          "metadata": {},
          "execution_count": 7
        }
      ],
      "source": [
        "dados"
      ]
    },
    {
      "cell_type": "code",
      "execution_count": 8,
      "metadata": {
        "id": "Ddz3Y2YU7Nwd",
        "colab": {
          "base_uri": "https://localhost:8080/"
        },
        "outputId": "537b90ef-e8bc-4fe9-8371-2edafa5c6880"
      },
      "outputs": [
        {
          "output_type": "execute_result",
          "data": {
            "text/plain": [
              "5"
            ]
          },
          "metadata": {},
          "execution_count": 8
        }
      ],
      "source": [
        "#Contandon valores Nulos Nan\n",
        "dados['Unnamed: 0'].isna().sum()"
      ]
    },
    {
      "cell_type": "code",
      "execution_count": 9,
      "metadata": {
        "id": "rJQiQPXX9T5k",
        "colab": {
          "base_uri": "https://localhost:8080/",
          "height": 424
        },
        "outputId": "5c8d1ab4-e476-43b2-b362-7eda8f7bf326"
      },
      "outputs": [
        {
          "output_type": "execute_result",
          "data": {
            "text/plain": [
              "      Unnamed: 0 Unnamed: 1  Unnamed: 2 Unnamed: 3     Unnamed: 4  Unnamed: 5  \\\n",
              "3             UF    Rodovia  km inicial   km final  Extensão (km)        Data   \n",
              "6             RS     BR-470     287,300    286,000          1,300  03/10/2022   \n",
              "7             RS     BR-470     286,000    285,000          1,000  03/10/2022   \n",
              "8             RS     BR-470     285,000    284,000          1,000  03/10/2022   \n",
              "9             RS     BR-470     284,000    283,000          1,000  03/10/2022   \n",
              "...          ...        ...         ...        ...            ...         ...   \n",
              "39787         SC     BR-282       1,000      2,000          1,000  03/11/2022   \n",
              "39788         SC     BR-282       2,000      3,000          1,000  03/11/2022   \n",
              "39789         SC     BR-282       3,000      4,000          1,000  03/11/2022   \n",
              "39790         SC     BR-282       4,000      5,000          1,000  03/11/2022   \n",
              "39791         SC     BR-282       5,000      5,400          0,400  03/11/2022   \n",
              "\n",
              "        Unnamed: 6   Unnamed: 7 Unnamed: 8 Unnamed: 9 Unnamed: 10  \n",
              "3         Latitude    Longitude        ICC        ICP         ICM  \n",
              "6      -29,6689854  -51,4535742     37,500     10,000      18,250  \n",
              "7      -29,6570574   -51,454625     37,500     22,500      27,000  \n",
              "8      -29,6488624  -51,4585463     37,500     10,000      18,250  \n",
              "9      -29,6408565  -51,4646706     37,500     10,000      18,250  \n",
              "...            ...          ...        ...        ...         ...  \n",
              "39787  -27,6031516  -48,5891216     37,500      0,000      11,250  \n",
              "39788  -27,5992164   -48,598231     25,000      0,000       7,500  \n",
              "39789  -27,5995502  -48,5977012     25,000      0,000       7,500  \n",
              "39790   -27,592766  -48,6027325     25,000      0,000       7,500  \n",
              "39791  -27,5858132  -48,6145548     25,000      0,000       7,500  \n",
              "\n",
              "[39787 rows x 11 columns]"
            ],
            "text/html": [
              "\n",
              "  <div id=\"df-18ee99af-998b-4f6c-aba4-439bb1730d45\">\n",
              "    <div class=\"colab-df-container\">\n",
              "      <div>\n",
              "<style scoped>\n",
              "    .dataframe tbody tr th:only-of-type {\n",
              "        vertical-align: middle;\n",
              "    }\n",
              "\n",
              "    .dataframe tbody tr th {\n",
              "        vertical-align: top;\n",
              "    }\n",
              "\n",
              "    .dataframe thead th {\n",
              "        text-align: right;\n",
              "    }\n",
              "</style>\n",
              "<table border=\"1\" class=\"dataframe\">\n",
              "  <thead>\n",
              "    <tr style=\"text-align: right;\">\n",
              "      <th></th>\n",
              "      <th>Unnamed: 0</th>\n",
              "      <th>Unnamed: 1</th>\n",
              "      <th>Unnamed: 2</th>\n",
              "      <th>Unnamed: 3</th>\n",
              "      <th>Unnamed: 4</th>\n",
              "      <th>Unnamed: 5</th>\n",
              "      <th>Unnamed: 6</th>\n",
              "      <th>Unnamed: 7</th>\n",
              "      <th>Unnamed: 8</th>\n",
              "      <th>Unnamed: 9</th>\n",
              "      <th>Unnamed: 10</th>\n",
              "    </tr>\n",
              "  </thead>\n",
              "  <tbody>\n",
              "    <tr>\n",
              "      <th>3</th>\n",
              "      <td>UF</td>\n",
              "      <td>Rodovia</td>\n",
              "      <td>km inicial</td>\n",
              "      <td>km final</td>\n",
              "      <td>Extensão (km)</td>\n",
              "      <td>Data</td>\n",
              "      <td>Latitude</td>\n",
              "      <td>Longitude</td>\n",
              "      <td>ICC</td>\n",
              "      <td>ICP</td>\n",
              "      <td>ICM</td>\n",
              "    </tr>\n",
              "    <tr>\n",
              "      <th>6</th>\n",
              "      <td>RS</td>\n",
              "      <td>BR-470</td>\n",
              "      <td>287,300</td>\n",
              "      <td>286,000</td>\n",
              "      <td>1,300</td>\n",
              "      <td>03/10/2022</td>\n",
              "      <td>-29,6689854</td>\n",
              "      <td>-51,4535742</td>\n",
              "      <td>37,500</td>\n",
              "      <td>10,000</td>\n",
              "      <td>18,250</td>\n",
              "    </tr>\n",
              "    <tr>\n",
              "      <th>7</th>\n",
              "      <td>RS</td>\n",
              "      <td>BR-470</td>\n",
              "      <td>286,000</td>\n",
              "      <td>285,000</td>\n",
              "      <td>1,000</td>\n",
              "      <td>03/10/2022</td>\n",
              "      <td>-29,6570574</td>\n",
              "      <td>-51,454625</td>\n",
              "      <td>37,500</td>\n",
              "      <td>22,500</td>\n",
              "      <td>27,000</td>\n",
              "    </tr>\n",
              "    <tr>\n",
              "      <th>8</th>\n",
              "      <td>RS</td>\n",
              "      <td>BR-470</td>\n",
              "      <td>285,000</td>\n",
              "      <td>284,000</td>\n",
              "      <td>1,000</td>\n",
              "      <td>03/10/2022</td>\n",
              "      <td>-29,6488624</td>\n",
              "      <td>-51,4585463</td>\n",
              "      <td>37,500</td>\n",
              "      <td>10,000</td>\n",
              "      <td>18,250</td>\n",
              "    </tr>\n",
              "    <tr>\n",
              "      <th>9</th>\n",
              "      <td>RS</td>\n",
              "      <td>BR-470</td>\n",
              "      <td>284,000</td>\n",
              "      <td>283,000</td>\n",
              "      <td>1,000</td>\n",
              "      <td>03/10/2022</td>\n",
              "      <td>-29,6408565</td>\n",
              "      <td>-51,4646706</td>\n",
              "      <td>37,500</td>\n",
              "      <td>10,000</td>\n",
              "      <td>18,250</td>\n",
              "    </tr>\n",
              "    <tr>\n",
              "      <th>...</th>\n",
              "      <td>...</td>\n",
              "      <td>...</td>\n",
              "      <td>...</td>\n",
              "      <td>...</td>\n",
              "      <td>...</td>\n",
              "      <td>...</td>\n",
              "      <td>...</td>\n",
              "      <td>...</td>\n",
              "      <td>...</td>\n",
              "      <td>...</td>\n",
              "      <td>...</td>\n",
              "    </tr>\n",
              "    <tr>\n",
              "      <th>39787</th>\n",
              "      <td>SC</td>\n",
              "      <td>BR-282</td>\n",
              "      <td>1,000</td>\n",
              "      <td>2,000</td>\n",
              "      <td>1,000</td>\n",
              "      <td>03/11/2022</td>\n",
              "      <td>-27,6031516</td>\n",
              "      <td>-48,5891216</td>\n",
              "      <td>37,500</td>\n",
              "      <td>0,000</td>\n",
              "      <td>11,250</td>\n",
              "    </tr>\n",
              "    <tr>\n",
              "      <th>39788</th>\n",
              "      <td>SC</td>\n",
              "      <td>BR-282</td>\n",
              "      <td>2,000</td>\n",
              "      <td>3,000</td>\n",
              "      <td>1,000</td>\n",
              "      <td>03/11/2022</td>\n",
              "      <td>-27,5992164</td>\n",
              "      <td>-48,598231</td>\n",
              "      <td>25,000</td>\n",
              "      <td>0,000</td>\n",
              "      <td>7,500</td>\n",
              "    </tr>\n",
              "    <tr>\n",
              "      <th>39789</th>\n",
              "      <td>SC</td>\n",
              "      <td>BR-282</td>\n",
              "      <td>3,000</td>\n",
              "      <td>4,000</td>\n",
              "      <td>1,000</td>\n",
              "      <td>03/11/2022</td>\n",
              "      <td>-27,5995502</td>\n",
              "      <td>-48,5977012</td>\n",
              "      <td>25,000</td>\n",
              "      <td>0,000</td>\n",
              "      <td>7,500</td>\n",
              "    </tr>\n",
              "    <tr>\n",
              "      <th>39790</th>\n",
              "      <td>SC</td>\n",
              "      <td>BR-282</td>\n",
              "      <td>4,000</td>\n",
              "      <td>5,000</td>\n",
              "      <td>1,000</td>\n",
              "      <td>03/11/2022</td>\n",
              "      <td>-27,592766</td>\n",
              "      <td>-48,6027325</td>\n",
              "      <td>25,000</td>\n",
              "      <td>0,000</td>\n",
              "      <td>7,500</td>\n",
              "    </tr>\n",
              "    <tr>\n",
              "      <th>39791</th>\n",
              "      <td>SC</td>\n",
              "      <td>BR-282</td>\n",
              "      <td>5,000</td>\n",
              "      <td>5,400</td>\n",
              "      <td>0,400</td>\n",
              "      <td>03/11/2022</td>\n",
              "      <td>-27,5858132</td>\n",
              "      <td>-48,6145548</td>\n",
              "      <td>25,000</td>\n",
              "      <td>0,000</td>\n",
              "      <td>7,500</td>\n",
              "    </tr>\n",
              "  </tbody>\n",
              "</table>\n",
              "<p>39787 rows × 11 columns</p>\n",
              "</div>\n",
              "      <button class=\"colab-df-convert\" onclick=\"convertToInteractive('df-18ee99af-998b-4f6c-aba4-439bb1730d45')\"\n",
              "              title=\"Convert this dataframe to an interactive table.\"\n",
              "              style=\"display:none;\">\n",
              "        \n",
              "  <svg xmlns=\"http://www.w3.org/2000/svg\" height=\"24px\"viewBox=\"0 0 24 24\"\n",
              "       width=\"24px\">\n",
              "    <path d=\"M0 0h24v24H0V0z\" fill=\"none\"/>\n",
              "    <path d=\"M18.56 5.44l.94 2.06.94-2.06 2.06-.94-2.06-.94-.94-2.06-.94 2.06-2.06.94zm-11 1L8.5 8.5l.94-2.06 2.06-.94-2.06-.94L8.5 2.5l-.94 2.06-2.06.94zm10 10l.94 2.06.94-2.06 2.06-.94-2.06-.94-.94-2.06-.94 2.06-2.06.94z\"/><path d=\"M17.41 7.96l-1.37-1.37c-.4-.4-.92-.59-1.43-.59-.52 0-1.04.2-1.43.59L10.3 9.45l-7.72 7.72c-.78.78-.78 2.05 0 2.83L4 21.41c.39.39.9.59 1.41.59.51 0 1.02-.2 1.41-.59l7.78-7.78 2.81-2.81c.8-.78.8-2.07 0-2.86zM5.41 20L4 18.59l7.72-7.72 1.47 1.35L5.41 20z\"/>\n",
              "  </svg>\n",
              "      </button>\n",
              "      \n",
              "  <style>\n",
              "    .colab-df-container {\n",
              "      display:flex;\n",
              "      flex-wrap:wrap;\n",
              "      gap: 12px;\n",
              "    }\n",
              "\n",
              "    .colab-df-convert {\n",
              "      background-color: #E8F0FE;\n",
              "      border: none;\n",
              "      border-radius: 50%;\n",
              "      cursor: pointer;\n",
              "      display: none;\n",
              "      fill: #1967D2;\n",
              "      height: 32px;\n",
              "      padding: 0 0 0 0;\n",
              "      width: 32px;\n",
              "    }\n",
              "\n",
              "    .colab-df-convert:hover {\n",
              "      background-color: #E2EBFA;\n",
              "      box-shadow: 0px 1px 2px rgba(60, 64, 67, 0.3), 0px 1px 3px 1px rgba(60, 64, 67, 0.15);\n",
              "      fill: #174EA6;\n",
              "    }\n",
              "\n",
              "    [theme=dark] .colab-df-convert {\n",
              "      background-color: #3B4455;\n",
              "      fill: #D2E3FC;\n",
              "    }\n",
              "\n",
              "    [theme=dark] .colab-df-convert:hover {\n",
              "      background-color: #434B5C;\n",
              "      box-shadow: 0px 1px 3px 1px rgba(0, 0, 0, 0.15);\n",
              "      filter: drop-shadow(0px 1px 2px rgba(0, 0, 0, 0.3));\n",
              "      fill: #FFFFFF;\n",
              "    }\n",
              "  </style>\n",
              "\n",
              "      <script>\n",
              "        const buttonEl =\n",
              "          document.querySelector('#df-18ee99af-998b-4f6c-aba4-439bb1730d45 button.colab-df-convert');\n",
              "        buttonEl.style.display =\n",
              "          google.colab.kernel.accessAllowed ? 'block' : 'none';\n",
              "\n",
              "        async function convertToInteractive(key) {\n",
              "          const element = document.querySelector('#df-18ee99af-998b-4f6c-aba4-439bb1730d45');\n",
              "          const dataTable =\n",
              "            await google.colab.kernel.invokeFunction('convertToInteractive',\n",
              "                                                     [key], {});\n",
              "          if (!dataTable) return;\n",
              "\n",
              "          const docLinkHtml = 'Like what you see? Visit the ' +\n",
              "            '<a target=\"_blank\" href=https://colab.research.google.com/notebooks/data_table.ipynb>data table notebook</a>'\n",
              "            + ' to learn more about interactive tables.';\n",
              "          element.innerHTML = '';\n",
              "          dataTable['output_type'] = 'display_data';\n",
              "          await google.colab.output.renderOutput(dataTable, element);\n",
              "          const docLink = document.createElement('div');\n",
              "          docLink.innerHTML = docLinkHtml;\n",
              "          element.appendChild(docLink);\n",
              "        }\n",
              "      </script>\n",
              "    </div>\n",
              "  </div>\n",
              "  "
            ]
          },
          "metadata": {},
          "execution_count": 9
        }
      ],
      "source": [
        "#Apagando dados Nulos NaN\n",
        "dados = dados.dropna(how='all')\n",
        "dados"
      ]
    },
    {
      "cell_type": "code",
      "execution_count": 10,
      "metadata": {
        "id": "lTpTKi7l9hlx"
      },
      "outputs": [],
      "source": [
        "dfpavimentacao = pd.DataFrame(dados)"
      ]
    },
    {
      "cell_type": "code",
      "execution_count": 11,
      "metadata": {
        "id": "aJrkHfTL_EFr"
      },
      "outputs": [],
      "source": [
        "#renomeando o cabeçalho com a primeira linha\n",
        "dfpavimentacao = dfpavimentacao.rename(columns=dfpavimentacao.iloc[0]).drop(dfpavimentacao.index[0])"
      ]
    },
    {
      "cell_type": "code",
      "execution_count": 12,
      "metadata": {
        "id": "1vU4JqDlHnAB"
      },
      "outputs": [],
      "source": [
        "#Exportar em csv\n",
        "dfpavimentacao.to_csv(\"pavimentacao.csv\")\n",
        "#Baixar arquivo CSV\n",
        "#files.download(\"pavimentacao.csv\")\n",
        "#Salvar no drive\n",
        "!cp pavimentacao.csv \"/content/drive/MyDrive/Dados Geográficos/\""
      ]
    },
    {
      "cell_type": "code",
      "execution_count": 13,
      "metadata": {
        "id": "rrWfGeJlCFJB"
      },
      "outputs": [],
      "source": [
        "#transformando a coluna ICM em númerico\n",
        "dfpavimentacao['ICM'] = dfpavimentacao['ICM'].str.replace(',','.')\n",
        "dfpavimentacao['ICM'] = dfpavimentacao['ICM'].astype(float)"
      ]
    },
    {
      "cell_type": "code",
      "execution_count": null,
      "metadata": {
        "id": "DVUvutwWMIQT"
      },
      "outputs": [],
      "source": [
        "dfpavimentacao['ICM']"
      ]
    },
    {
      "cell_type": "code",
      "source": [
        "#Agrupando dados ICM por Estado\n",
        "Estado = dfpavimentacao.groupby(dfpavimentacao['UF']).agg({'ICM':('min','mean','max')})\n",
        "Estado"
      ],
      "metadata": {
        "id": "QMGEBKJ7dXKz"
      },
      "execution_count": null,
      "outputs": []
    },
    {
      "cell_type": "code",
      "source": [
        "#Agrupando dados ICM por Rodovia\n",
        "Rodovias = dfpavimentacao.groupby(['Rodovia','UF']).agg({'ICM':('min','mean','max')})\n",
        "Rodovias"
      ],
      "metadata": {
        "id": "K8SkDo33qR2T"
      },
      "execution_count": null,
      "outputs": []
    },
    {
      "cell_type": "code",
      "source": [
        "#Download Arquivo Rodovias por Estado dados ICM\n",
        "Rodovias.to_csv('rodovias.csv')\n",
        "files.download('rodovias.csv')"
      ],
      "metadata": {
        "id": "eUMbuS-3saTp",
        "colab": {
          "base_uri": "https://localhost:8080/",
          "height": 17
        },
        "outputId": "1f24e53e-89f0-4440-e490-639323ad9ec9"
      },
      "execution_count": 18,
      "outputs": [
        {
          "output_type": "display_data",
          "data": {
            "text/plain": [
              "<IPython.core.display.Javascript object>"
            ],
            "application/javascript": [
              "\n",
              "    async function download(id, filename, size) {\n",
              "      if (!google.colab.kernel.accessAllowed) {\n",
              "        return;\n",
              "      }\n",
              "      const div = document.createElement('div');\n",
              "      const label = document.createElement('label');\n",
              "      label.textContent = `Downloading \"${filename}\": `;\n",
              "      div.appendChild(label);\n",
              "      const progress = document.createElement('progress');\n",
              "      progress.max = size;\n",
              "      div.appendChild(progress);\n",
              "      document.body.appendChild(div);\n",
              "\n",
              "      const buffers = [];\n",
              "      let downloaded = 0;\n",
              "\n",
              "      const channel = await google.colab.kernel.comms.open(id);\n",
              "      // Send a message to notify the kernel that we're ready.\n",
              "      channel.send({})\n",
              "\n",
              "      for await (const message of channel.messages) {\n",
              "        // Send a message to notify the kernel that we're ready.\n",
              "        channel.send({})\n",
              "        if (message.buffers) {\n",
              "          for (const buffer of message.buffers) {\n",
              "            buffers.push(buffer);\n",
              "            downloaded += buffer.byteLength;\n",
              "            progress.value = downloaded;\n",
              "          }\n",
              "        }\n",
              "      }\n",
              "      const blob = new Blob(buffers, {type: 'application/binary'});\n",
              "      const a = document.createElement('a');\n",
              "      a.href = window.URL.createObjectURL(blob);\n",
              "      a.download = filename;\n",
              "      div.appendChild(a);\n",
              "      a.click();\n",
              "      div.remove();\n",
              "    }\n",
              "  "
            ]
          },
          "metadata": {}
        },
        {
          "output_type": "display_data",
          "data": {
            "text/plain": [
              "<IPython.core.display.Javascript object>"
            ],
            "application/javascript": [
              "download(\"download_1cf5c9ca-7cf6-4f4b-b586-6b85c85a409c\", \"rodovias.csv\", 6382)"
            ]
          },
          "metadata": {}
        }
      ]
    },
    {
      "cell_type": "code",
      "source": [
        "condicoes =[(dfpavimentacao['ICM'] > 70),\n",
        "    ((50 < dfpavimentacao['ICM']) & (dfpavimentacao['ICM'] <= 70)),\n",
        "    ((30 < dfpavimentacao['ICM']) & (dfpavimentacao['ICM'] <= 50)),\n",
        "    (dfpavimentacao['ICM'] <= 30)]\n",
        "opcao = ['Péssimo','Ruim','Regular','Bom'] \n",
        "dfpavimentacao['Classificação'] = np.select(condicoes,opcao)\n",
        "print(dfpavimentacao)          \n"
      ],
      "metadata": {
        "id": "NKYC0TQF3tN4"
      },
      "execution_count": null,
      "outputs": []
    },
    {
      "cell_type": "code",
      "source": [
        "#Filtrando dados das Rodovias em MG\n",
        "Filtro_Estado = dfpavimentacao[dfpavimentacao['UF']=='MG']\n",
        "#Filtro do ICM médio para MG com ordenação dos dados do maior para o menor\n",
        "EstadoMG = Filtro_Estado.groupby(['Rodovia']).agg({'ICM':'mean'}).reset_index().sort_values(['ICM'],ascending=False)\n",
        "EstadoMG"
      ],
      "metadata": {
        "id": "B_gFv-Vtywl4"
      },
      "execution_count": null,
      "outputs": []
    },
    {
      "cell_type": "code",
      "source": [
        "#Gráfico de Barra Horizontal\n",
        "plt.figure(figsize=(15,8)) #Tamanho do gráfico\n",
        "sns.set_style('white') #Estilo do gráfico\n",
        "sns.barplot(data = EstadoMG, x='ICM', y='Rodovia', palette=sns.color_palette(\"blend:#7AB,#EDA\")) #Quais dados plotar no gráfico\n",
        "plt.xlabel('ICM Médio', size=14,labelpad=30) #Eixo X Rótulo / Título do Eixo\n",
        "plt.ylabel('Rodovias', size=14,rotation=0,labelpad=70) #Eixo Y Rótulo / Título do Eixo\n",
        "plt.title('ICM por Rodovia em Minas Gerais', size=14) #Título\n",
        "plt.tick_params(axis='both', which='major', labelsize=12) #Eixo X e Y dos dados formatação\n",
        "sns.despine() #Tirar Linha do topo e direita do gráfico\n",
        "plt.tight_layout() #Melhorar Visualização"
      ],
      "metadata": {
        "id": "VgAxl-divh1-"
      },
      "execution_count": null,
      "outputs": []
    },
    {
      "cell_type": "code",
      "source": [
        "Estados = dfpavimentacao.groupby(['UF']).agg({'ICM':'mean'}).reset_index().sort_values(['ICM'],ascending=False)\n",
        "Estados\n"
      ],
      "metadata": {
        "id": "tOHhPCV09yj4"
      },
      "execution_count": null,
      "outputs": []
    },
    {
      "cell_type": "code",
      "source": [
        "#Gráfico Média ICM por Estado\n",
        "plt.figure(figsize=(15,8))\n",
        "sns.set_style('white')\n",
        "sns.barplot(data=Estados,x='UF', y='ICM',palette=sns.color_palette(\"ch:s=.25,rot=-.25\"))\n",
        "plt.xlabel(\"Estado\", size=15)\n",
        "plt.ylabel(\"ICM\", size=15,rotation=0,labelpad=30)\n",
        "plt.title(\"Gráfico ICM médio por Estado\", size=18)\n",
        "plt.tick_params(axis='both', which='major', labelsize=14)\n",
        "sns.despine()\n",
        "plt.tight_layout()"
      ],
      "metadata": {
        "id": "PibStafD-B84"
      },
      "execution_count": null,
      "outputs": []
    },
    {
      "cell_type": "code",
      "source": [
        "#Gráfico Média ICM por Estado\n",
        "plt.figure(figsize=(15,8))\n",
        "sns.set_style('white')\n",
        "sns.barplot(data=dfpavimentacao,x='UF', y='ICM',palette=sns.color_palette(\"ch:s=.25,rot=-.25\"))\n",
        "plt.xlabel(\"Estado\", size=15)\n",
        "plt.ylabel(\"ICM\", size=15,rotation=0,labelpad=30)\n",
        "plt.title(\"Gráfico ICM médio por Estado\", size=18)\n",
        "plt.tick_params(axis='both', which='major', labelsize=14)\n",
        "sns.despine()\n",
        "plt.tight_layout()\n"
      ],
      "metadata": {
        "id": "uwRREjnJeYse"
      },
      "execution_count": null,
      "outputs": []
    },
    {
      "cell_type": "code",
      "source": [
        "#Filtro de Classificação das Rodovias pelas Categorias do DNIT\n",
        "RodoviaClassificacao = dfpavimentacao.groupby(['Rodovia']).agg({'ICM':'mean'}).reset_index().sort_values(['ICM'],ascending=False)\n",
        "condicoes =[(RodoviaClassificacao['ICM'] > 70),\n",
        "    ((50 < RodoviaClassificacao['ICM']) & (RodoviaClassificacao['ICM'] <= 70)),\n",
        "    ((30 < RodoviaClassificacao['ICM']) & (RodoviaClassificacao['ICM'] <= 50)),\n",
        "    (RodoviaClassificacao['ICM'] <= 30)]\n",
        "opcao = ['Péssimo','Ruim','Regular','Bom'] \n",
        "RodoviaClassificacao['Classificação'] = np.select(condicoes,opcao)\n",
        "Bom = RodoviaClassificacao.query(\"Classificação == 'Bom'\")\n",
        "Regular = RodoviaClassificacao.query(\"Classificação == 'Regular'\")\n",
        "Ruim = RodoviaClassificacao.query(\"Classificação == 'Ruim'\")\n",
        "Pessimo = RodoviaClassificacao.query(\"Classificação == 'Péssimo'\")"
      ],
      "metadata": {
        "id": "VXbpuV3SaZB8"
      },
      "execution_count": 590,
      "outputs": []
    },
    {
      "cell_type": "code",
      "source": [
        "#Gráfico de Barra Rodovias Boas\n",
        "plt.figure(figsize=(20,12))\n",
        "sns.set_style('white')\n",
        "sns.barplot(data = Bom, x='ICM', y='Rodovia', palette=sns.color_palette(\"blend:#7AB,#EDA\"))\n",
        "plt.xlabel('ICM Médio', size=14,labelpad=30)\n",
        "plt.ylabel('Rodovias', size=14,rotation=0,labelpad=70)\n",
        "plt.title('Rodovias Classificadas como Boas', size=14)\n",
        "plt.tick_params(axis='both', which='major', labelsize=12)\n",
        "sns.despine()\n",
        "plt.tight_layout()"
      ],
      "metadata": {
        "id": "yv5Nhe3Or5tr"
      },
      "execution_count": null,
      "outputs": []
    },
    {
      "cell_type": "code",
      "source": [
        "#Gráfico de Barra Rodovias Regular\n",
        "plt.figure(figsize=(20,12))\n",
        "sns.set_style('white')\n",
        "sns.barplot(data = Regular, x='ICM', y='Rodovia', palette=sns.color_palette(\"blend:#7AB,#EDA\"))\n",
        "plt.xlabel('ICM Médio', size=14,labelpad=30)\n",
        "plt.ylabel('Rodovias', size=14,rotation=0,labelpad=70)\n",
        "plt.title('Rodovias Classificadas como Regular', size=14)\n",
        "plt.tick_params(axis='both', which='major', labelsize=12)\n",
        "sns.despine()\n",
        "plt.tight_layout()"
      ],
      "metadata": {
        "id": "3-1e82UrlgBQ"
      },
      "execution_count": null,
      "outputs": []
    },
    {
      "cell_type": "code",
      "source": [
        "#Gráfico de Barra Rodovias Ruins\n",
        "plt.figure(figsize=(20,12))\n",
        "sns.set_style('white')\n",
        "sns.barplot(data = Ruim, x='ICM', y='Rodovia', palette=sns.color_palette(\"blend:#7AB,#EDA\"))\n",
        "plt.xlabel('ICM Médio', size=14,labelpad=30)\n",
        "plt.ylabel('Rodovias', size=14,rotation=0,labelpad=70)\n",
        "plt.title('Rodovias Classificadas como Ruins', size=14)\n",
        "plt.tick_params(axis='both', which='major', labelsize=12)\n",
        "sns.despine()\n",
        "plt.tight_layout()"
      ],
      "metadata": {
        "id": "I1yhwJdQbtrL"
      },
      "execution_count": null,
      "outputs": []
    },
    {
      "cell_type": "code",
      "source": [
        "#Filtro dos Trechos classificados como Péssimos por Rodovia\n",
        "Pessimo = dfpavimentacao.query(\"ICM > 70\")\n",
        "Pessimo = Pessimo.groupby(['Rodovia']).agg({'ICM':'mean'}).reset_index().sort_values(['ICM'],ascending=False)\n",
        "Pessimo\n"
      ],
      "metadata": {
        "id": "rK-zBdLHtK6N"
      },
      "execution_count": null,
      "outputs": []
    },
    {
      "cell_type": "code",
      "source": [
        "#Gráfico de Barra Rodovias Péssimos\n",
        "plt.figure(figsize=(20,12))\n",
        "sns.set_style('white')\n",
        "sns.barplot(data = Pessimo, x='ICM', y='Rodovia', palette=sns.color_palette(\"blend:#7AB,#EDA\"))\n",
        "plt.xlabel('ICM Médio', size=14,labelpad=30)\n",
        "plt.ylabel('Rodovias', size=14,rotation=0,labelpad=70)\n",
        "plt.title('ICM Médio > 70 por Rodovia', size=14)\n",
        "plt.tick_params(axis='both', which='major', labelsize=12)\n",
        "sns.despine()\n",
        "plt.tight_layout()"
      ],
      "metadata": {
        "id": "m_Lbg4_duQSF"
      },
      "execution_count": null,
      "outputs": []
    },
    {
      "cell_type": "code",
      "source": [
        "#Filtro dos Trechos classificados como Péssimos\n",
        "Pessimo = dfpavimentacao.query(\"ICM > 70\")\n",
        "Pessimo = Pessimo.groupby(['UF']).agg({'ICM':'mean'}).reset_index().sort_values(['ICM'],ascending=False)\n",
        "Pessimo"
      ],
      "metadata": {
        "id": "nWFnGCIIAUZ-"
      },
      "execution_count": null,
      "outputs": []
    },
    {
      "cell_type": "code",
      "source": [
        "#Gráfico Pessimo por Estado\n",
        "plt.figure(figsize=(20,12))\n",
        "sns.set_style('white')\n",
        "sns.barplot(data = Pessimo, x='ICM', y='UF', palette=sns.color_palette(\"blend:#7AB,#EDA\"))\n",
        "plt.xlabel('ICM Médio', size=14,labelpad=30)\n",
        "plt.ylabel('Estado', size=14,rotation=0,labelpad=70)\n",
        "plt.title('Média ICM > 70 por Estado', size=14)\n",
        "plt.tick_params(axis='both', which='major', labelsize=12)\n",
        "sns.despine()\n",
        "plt.tight_layout()\n"
      ],
      "metadata": {
        "id": "BlpoxuP24mRk"
      },
      "execution_count": null,
      "outputs": []
    },
    {
      "cell_type": "code",
      "source": [
        "#Quantidade de itens avaliados por classificação\n",
        "Quantidade = dfpavimentacao.groupby(['Classificação']).count()\n",
        "Quantidade"
      ],
      "metadata": {
        "id": "_hfN-TN8uiHY"
      },
      "execution_count": null,
      "outputs": []
    },
    {
      "cell_type": "code",
      "source": [
        "#Quantidade de Extensão em km de cada avaliação\n",
        "Extensao = dfpavimentacao\n",
        "Extensao['Extensão (km)']\n",
        "Extensao['Extensão (km)'] = Extensao['Extensão (km)'].str.replace(',','.')\n",
        "Extensao['Extensão (km)'] = Extensao['Extensão (km)'].astype(float)\n"
      ],
      "metadata": {
        "id": "cszHVdezviK0"
      },
      "execution_count": null,
      "outputs": []
    },
    {
      "cell_type": "code",
      "source": [
        "#Limpando outlines\n",
        "#Extensao = Extensao.drop(Extensao['Extensão (km)'].idxmin())\n",
        "Extensao['Extensão (km)'].describe()"
      ],
      "metadata": {
        "id": "iyEmwHei2u3j"
      },
      "execution_count": null,
      "outputs": []
    },
    {
      "cell_type": "code",
      "source": [
        "#Filtrando dados das Rodovias\n",
        "TodasRodovias = dfpavimentacao.groupby(['Rodovia']).agg({'ICM':'mean'}).reset_index().sort_values(['ICM'],ascending=False)\n",
        "TodasRodovias\n"
      ],
      "metadata": {
        "id": "xt4gc7BpCpgc"
      },
      "execution_count": null,
      "outputs": []
    },
    {
      "cell_type": "code",
      "source": [
        "plt.figure(figsize=(30,18))\n",
        "sns.set_style('white')\n",
        "sns.barplot(data = TodasRodovias, x='ICM', y='Rodovia', palette=sns.color_palette(\"blend:#7AB,#EDA\"))\n",
        "plt.xlabel('ICM Médio', size=14,labelpad=30)\n",
        "plt.ylabel('Estado', size=14,rotation=0,labelpad=70)\n",
        "plt.title('Média ICM > 70 por Estado', size=14)\n",
        "plt.tick_params(axis='both', which='major', labelsize=12)\n",
        "sns.despine()\n",
        "plt.tight_layout()"
      ],
      "metadata": {
        "id": "1911aPQZC1Zi"
      },
      "execution_count": null,
      "outputs": []
    }
  ],
  "metadata": {
    "colab": {
      "provenance": [],
      "authorship_tag": "ABX9TyNyhlp2dWPwwUqTOCR0UAe4",
      "include_colab_link": true
    },
    "kernelspec": {
      "display_name": "Python 3",
      "name": "python3"
    },
    "language_info": {
      "name": "python"
    }
  },
  "nbformat": 4,
  "nbformat_minor": 0
}